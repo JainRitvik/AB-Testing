{
  "cells": [
    {
      "cell_type": "markdown",
      "id": "368579e7-f057-4f61-a214-927aabb7ef5f",
      "metadata": {
        "id": "368579e7-f057-4f61-a214-927aabb7ef5f"
      },
      "source": [
        "# In this notebook, I will conduct A/B tests in three different ways.\n",
        "\n",
        "- Sampling distribution under the null hypothesis\n",
        "- Confidence intervals\n",
        "- Logistic Regression"
      ]
    },
    {
      "cell_type": "markdown",
      "id": "5c2e32aa-329d-4dba-bdda-4da83dc218c7",
      "metadata": {
        "id": "5c2e32aa-329d-4dba-bdda-4da83dc218c7"
      },
      "source": [
        "## Importing Packages"
      ]
    },
    {
      "cell_type": "code",
      "execution_count": 2,
      "id": "9dfcbaf4-3c7e-4520-8e2c-bda3caa7cf96",
      "metadata": {
        "id": "9dfcbaf4-3c7e-4520-8e2c-bda3caa7cf96"
      },
      "outputs": [],
      "source": [
        "# Importing necessary libraries\n",
        "import pandas as pd\n",
        "import numpy as np\n",
        "\n",
        "import scipy.stats as stats\n",
        "import statsmodels.api as sm\n",
        "from statsmodels.stats.proportion import proportions_ztest\n",
        "\n",
        "import seaborn as sns\n",
        "import matplotlib.pyplot as plt\n",
        "from matplotlib.lines import Line2D\n",
        "%matplotlib inline"
      ]
    },
    {
      "cell_type": "markdown",
      "id": "820e5ce9-dcd8-4380-b1d6-af41b512b882",
      "metadata": {
        "id": "820e5ce9-dcd8-4380-b1d6-af41b512b882"
      },
      "source": [
        "## Reading the dataset"
      ]
    },
    {
      "cell_type": "code",
      "execution_count": null,
      "id": "f6b992e4-4e38-4120-a5d0-36276183efb3",
      "metadata": {
        "collapsed": true,
        "id": "f6b992e4-4e38-4120-a5d0-36276183efb3"
      },
      "outputs": [],
      "source": [
        "pwd"
      ]
    },
    {
      "cell_type": "code",
      "execution_count": 6,
      "id": "e207674e-b9ae-42c8-aec8-c982d05d00e5",
      "metadata": {
        "id": "e207674e-b9ae-42c8-aec8-c982d05d00e5"
      },
      "outputs": [],
      "source": [
        "df = pd.read_csv(\"AdSmartABdata - AdSmartABdata.csv\")"
      ]
    },
    {
      "cell_type": "code",
      "execution_count": 7,
      "id": "b621a033-b425-41e7-a9bb-dbecde416e58",
      "metadata": {
        "colab": {
          "base_uri": "https://localhost:8080/",
          "height": 206
        },
        "id": "b621a033-b425-41e7-a9bb-dbecde416e58",
        "outputId": "8fac156b-0438-4bf3-f080-d0797678209f"
      },
      "outputs": [
        {
          "output_type": "execute_result",
          "data": {
            "text/plain": [
              "                             auction_id experiment        date  hour  \\\n",
              "0  0008ef63-77a7-448b-bd1e-075f42c55e39    exposed  2020-07-10     8   \n",
              "1  000eabc5-17ce-4137-8efe-44734d914446    exposed  2020-07-07    10   \n",
              "2  0016d14a-ae18-4a02-a204-6ba53b52f2ed    exposed  2020-07-05     2   \n",
              "3  00187412-2932-4542-a8ef-3633901c98d9    control  2020-07-03    15   \n",
              "4  001a7785-d3fe-4e11-a344-c8735acacc2c    control  2020-07-03    15   \n",
              "\n",
              "          device_make  platform_os                browser  yes  no  \n",
              "0  Generic Smartphone            6          Chrome Mobile    0   0  \n",
              "1  Generic Smartphone            6          Chrome Mobile    0   0  \n",
              "2               E5823            6  Chrome Mobile WebView    0   1  \n",
              "3   Samsung SM-A705FN            6               Facebook    0   0  \n",
              "4  Generic Smartphone            6          Chrome Mobile    0   0  "
            ],
            "text/html": [
              "\n",
              "  <div id=\"df-2010fd1a-e0f7-4401-bc95-818553792c94\" class=\"colab-df-container\">\n",
              "    <div>\n",
              "<style scoped>\n",
              "    .dataframe tbody tr th:only-of-type {\n",
              "        vertical-align: middle;\n",
              "    }\n",
              "\n",
              "    .dataframe tbody tr th {\n",
              "        vertical-align: top;\n",
              "    }\n",
              "\n",
              "    .dataframe thead th {\n",
              "        text-align: right;\n",
              "    }\n",
              "</style>\n",
              "<table border=\"1\" class=\"dataframe\">\n",
              "  <thead>\n",
              "    <tr style=\"text-align: right;\">\n",
              "      <th></th>\n",
              "      <th>auction_id</th>\n",
              "      <th>experiment</th>\n",
              "      <th>date</th>\n",
              "      <th>hour</th>\n",
              "      <th>device_make</th>\n",
              "      <th>platform_os</th>\n",
              "      <th>browser</th>\n",
              "      <th>yes</th>\n",
              "      <th>no</th>\n",
              "    </tr>\n",
              "  </thead>\n",
              "  <tbody>\n",
              "    <tr>\n",
              "      <th>0</th>\n",
              "      <td>0008ef63-77a7-448b-bd1e-075f42c55e39</td>\n",
              "      <td>exposed</td>\n",
              "      <td>2020-07-10</td>\n",
              "      <td>8</td>\n",
              "      <td>Generic Smartphone</td>\n",
              "      <td>6</td>\n",
              "      <td>Chrome Mobile</td>\n",
              "      <td>0</td>\n",
              "      <td>0</td>\n",
              "    </tr>\n",
              "    <tr>\n",
              "      <th>1</th>\n",
              "      <td>000eabc5-17ce-4137-8efe-44734d914446</td>\n",
              "      <td>exposed</td>\n",
              "      <td>2020-07-07</td>\n",
              "      <td>10</td>\n",
              "      <td>Generic Smartphone</td>\n",
              "      <td>6</td>\n",
              "      <td>Chrome Mobile</td>\n",
              "      <td>0</td>\n",
              "      <td>0</td>\n",
              "    </tr>\n",
              "    <tr>\n",
              "      <th>2</th>\n",
              "      <td>0016d14a-ae18-4a02-a204-6ba53b52f2ed</td>\n",
              "      <td>exposed</td>\n",
              "      <td>2020-07-05</td>\n",
              "      <td>2</td>\n",
              "      <td>E5823</td>\n",
              "      <td>6</td>\n",
              "      <td>Chrome Mobile WebView</td>\n",
              "      <td>0</td>\n",
              "      <td>1</td>\n",
              "    </tr>\n",
              "    <tr>\n",
              "      <th>3</th>\n",
              "      <td>00187412-2932-4542-a8ef-3633901c98d9</td>\n",
              "      <td>control</td>\n",
              "      <td>2020-07-03</td>\n",
              "      <td>15</td>\n",
              "      <td>Samsung SM-A705FN</td>\n",
              "      <td>6</td>\n",
              "      <td>Facebook</td>\n",
              "      <td>0</td>\n",
              "      <td>0</td>\n",
              "    </tr>\n",
              "    <tr>\n",
              "      <th>4</th>\n",
              "      <td>001a7785-d3fe-4e11-a344-c8735acacc2c</td>\n",
              "      <td>control</td>\n",
              "      <td>2020-07-03</td>\n",
              "      <td>15</td>\n",
              "      <td>Generic Smartphone</td>\n",
              "      <td>6</td>\n",
              "      <td>Chrome Mobile</td>\n",
              "      <td>0</td>\n",
              "      <td>0</td>\n",
              "    </tr>\n",
              "  </tbody>\n",
              "</table>\n",
              "</div>\n",
              "    <div class=\"colab-df-buttons\">\n",
              "\n",
              "  <div class=\"colab-df-container\">\n",
              "    <button class=\"colab-df-convert\" onclick=\"convertToInteractive('df-2010fd1a-e0f7-4401-bc95-818553792c94')\"\n",
              "            title=\"Convert this dataframe to an interactive table.\"\n",
              "            style=\"display:none;\">\n",
              "\n",
              "  <svg xmlns=\"http://www.w3.org/2000/svg\" height=\"24px\" viewBox=\"0 -960 960 960\">\n",
              "    <path d=\"M120-120v-720h720v720H120Zm60-500h600v-160H180v160Zm220 220h160v-160H400v160Zm0 220h160v-160H400v160ZM180-400h160v-160H180v160Zm440 0h160v-160H620v160ZM180-180h160v-160H180v160Zm440 0h160v-160H620v160Z\"/>\n",
              "  </svg>\n",
              "    </button>\n",
              "\n",
              "  <style>\n",
              "    .colab-df-container {\n",
              "      display:flex;\n",
              "      gap: 12px;\n",
              "    }\n",
              "\n",
              "    .colab-df-convert {\n",
              "      background-color: #E8F0FE;\n",
              "      border: none;\n",
              "      border-radius: 50%;\n",
              "      cursor: pointer;\n",
              "      display: none;\n",
              "      fill: #1967D2;\n",
              "      height: 32px;\n",
              "      padding: 0 0 0 0;\n",
              "      width: 32px;\n",
              "    }\n",
              "\n",
              "    .colab-df-convert:hover {\n",
              "      background-color: #E2EBFA;\n",
              "      box-shadow: 0px 1px 2px rgba(60, 64, 67, 0.3), 0px 1px 3px 1px rgba(60, 64, 67, 0.15);\n",
              "      fill: #174EA6;\n",
              "    }\n",
              "\n",
              "    .colab-df-buttons div {\n",
              "      margin-bottom: 4px;\n",
              "    }\n",
              "\n",
              "    [theme=dark] .colab-df-convert {\n",
              "      background-color: #3B4455;\n",
              "      fill: #D2E3FC;\n",
              "    }\n",
              "\n",
              "    [theme=dark] .colab-df-convert:hover {\n",
              "      background-color: #434B5C;\n",
              "      box-shadow: 0px 1px 3px 1px rgba(0, 0, 0, 0.15);\n",
              "      filter: drop-shadow(0px 1px 2px rgba(0, 0, 0, 0.3));\n",
              "      fill: #FFFFFF;\n",
              "    }\n",
              "  </style>\n",
              "\n",
              "    <script>\n",
              "      const buttonEl =\n",
              "        document.querySelector('#df-2010fd1a-e0f7-4401-bc95-818553792c94 button.colab-df-convert');\n",
              "      buttonEl.style.display =\n",
              "        google.colab.kernel.accessAllowed ? 'block' : 'none';\n",
              "\n",
              "      async function convertToInteractive(key) {\n",
              "        const element = document.querySelector('#df-2010fd1a-e0f7-4401-bc95-818553792c94');\n",
              "        const dataTable =\n",
              "          await google.colab.kernel.invokeFunction('convertToInteractive',\n",
              "                                                    [key], {});\n",
              "        if (!dataTable) return;\n",
              "\n",
              "        const docLinkHtml = 'Like what you see? Visit the ' +\n",
              "          '<a target=\"_blank\" href=https://colab.research.google.com/notebooks/data_table.ipynb>data table notebook</a>'\n",
              "          + ' to learn more about interactive tables.';\n",
              "        element.innerHTML = '';\n",
              "        dataTable['output_type'] = 'display_data';\n",
              "        await google.colab.output.renderOutput(dataTable, element);\n",
              "        const docLink = document.createElement('div');\n",
              "        docLink.innerHTML = docLinkHtml;\n",
              "        element.appendChild(docLink);\n",
              "      }\n",
              "    </script>\n",
              "  </div>\n",
              "\n",
              "\n",
              "<div id=\"df-3fc093fc-d259-4a43-8916-8fb86271e042\">\n",
              "  <button class=\"colab-df-quickchart\" onclick=\"quickchart('df-3fc093fc-d259-4a43-8916-8fb86271e042')\"\n",
              "            title=\"Suggest charts\"\n",
              "            style=\"display:none;\">\n",
              "\n",
              "<svg xmlns=\"http://www.w3.org/2000/svg\" height=\"24px\"viewBox=\"0 0 24 24\"\n",
              "     width=\"24px\">\n",
              "    <g>\n",
              "        <path d=\"M19 3H5c-1.1 0-2 .9-2 2v14c0 1.1.9 2 2 2h14c1.1 0 2-.9 2-2V5c0-1.1-.9-2-2-2zM9 17H7v-7h2v7zm4 0h-2V7h2v10zm4 0h-2v-4h2v4z\"/>\n",
              "    </g>\n",
              "</svg>\n",
              "  </button>\n",
              "\n",
              "<style>\n",
              "  .colab-df-quickchart {\n",
              "      --bg-color: #E8F0FE;\n",
              "      --fill-color: #1967D2;\n",
              "      --hover-bg-color: #E2EBFA;\n",
              "      --hover-fill-color: #174EA6;\n",
              "      --disabled-fill-color: #AAA;\n",
              "      --disabled-bg-color: #DDD;\n",
              "  }\n",
              "\n",
              "  [theme=dark] .colab-df-quickchart {\n",
              "      --bg-color: #3B4455;\n",
              "      --fill-color: #D2E3FC;\n",
              "      --hover-bg-color: #434B5C;\n",
              "      --hover-fill-color: #FFFFFF;\n",
              "      --disabled-bg-color: #3B4455;\n",
              "      --disabled-fill-color: #666;\n",
              "  }\n",
              "\n",
              "  .colab-df-quickchart {\n",
              "    background-color: var(--bg-color);\n",
              "    border: none;\n",
              "    border-radius: 50%;\n",
              "    cursor: pointer;\n",
              "    display: none;\n",
              "    fill: var(--fill-color);\n",
              "    height: 32px;\n",
              "    padding: 0;\n",
              "    width: 32px;\n",
              "  }\n",
              "\n",
              "  .colab-df-quickchart:hover {\n",
              "    background-color: var(--hover-bg-color);\n",
              "    box-shadow: 0 1px 2px rgba(60, 64, 67, 0.3), 0 1px 3px 1px rgba(60, 64, 67, 0.15);\n",
              "    fill: var(--button-hover-fill-color);\n",
              "  }\n",
              "\n",
              "  .colab-df-quickchart-complete:disabled,\n",
              "  .colab-df-quickchart-complete:disabled:hover {\n",
              "    background-color: var(--disabled-bg-color);\n",
              "    fill: var(--disabled-fill-color);\n",
              "    box-shadow: none;\n",
              "  }\n",
              "\n",
              "  .colab-df-spinner {\n",
              "    border: 2px solid var(--fill-color);\n",
              "    border-color: transparent;\n",
              "    border-bottom-color: var(--fill-color);\n",
              "    animation:\n",
              "      spin 1s steps(1) infinite;\n",
              "  }\n",
              "\n",
              "  @keyframes spin {\n",
              "    0% {\n",
              "      border-color: transparent;\n",
              "      border-bottom-color: var(--fill-color);\n",
              "      border-left-color: var(--fill-color);\n",
              "    }\n",
              "    20% {\n",
              "      border-color: transparent;\n",
              "      border-left-color: var(--fill-color);\n",
              "      border-top-color: var(--fill-color);\n",
              "    }\n",
              "    30% {\n",
              "      border-color: transparent;\n",
              "      border-left-color: var(--fill-color);\n",
              "      border-top-color: var(--fill-color);\n",
              "      border-right-color: var(--fill-color);\n",
              "    }\n",
              "    40% {\n",
              "      border-color: transparent;\n",
              "      border-right-color: var(--fill-color);\n",
              "      border-top-color: var(--fill-color);\n",
              "    }\n",
              "    60% {\n",
              "      border-color: transparent;\n",
              "      border-right-color: var(--fill-color);\n",
              "    }\n",
              "    80% {\n",
              "      border-color: transparent;\n",
              "      border-right-color: var(--fill-color);\n",
              "      border-bottom-color: var(--fill-color);\n",
              "    }\n",
              "    90% {\n",
              "      border-color: transparent;\n",
              "      border-bottom-color: var(--fill-color);\n",
              "    }\n",
              "  }\n",
              "</style>\n",
              "\n",
              "  <script>\n",
              "    async function quickchart(key) {\n",
              "      const quickchartButtonEl =\n",
              "        document.querySelector('#' + key + ' button');\n",
              "      quickchartButtonEl.disabled = true;  // To prevent multiple clicks.\n",
              "      quickchartButtonEl.classList.add('colab-df-spinner');\n",
              "      try {\n",
              "        const charts = await google.colab.kernel.invokeFunction(\n",
              "            'suggestCharts', [key], {});\n",
              "      } catch (error) {\n",
              "        console.error('Error during call to suggestCharts:', error);\n",
              "      }\n",
              "      quickchartButtonEl.classList.remove('colab-df-spinner');\n",
              "      quickchartButtonEl.classList.add('colab-df-quickchart-complete');\n",
              "    }\n",
              "    (() => {\n",
              "      let quickchartButtonEl =\n",
              "        document.querySelector('#df-3fc093fc-d259-4a43-8916-8fb86271e042 button');\n",
              "      quickchartButtonEl.style.display =\n",
              "        google.colab.kernel.accessAllowed ? 'block' : 'none';\n",
              "    })();\n",
              "  </script>\n",
              "</div>\n",
              "\n",
              "    </div>\n",
              "  </div>\n"
            ],
            "application/vnd.google.colaboratory.intrinsic+json": {
              "type": "dataframe",
              "variable_name": "df",
              "summary": "{\n  \"name\": \"df\",\n  \"rows\": 8077,\n  \"fields\": [\n    {\n      \"column\": \"auction_id\",\n      \"properties\": {\n        \"dtype\": \"string\",\n        \"num_unique_values\": 8077,\n        \"samples\": [\n          \"34da343c-b2cf-452a-a12d-ea3475b4b426\",\n          \"e05daa86-33b5-4607-8168-8c6f475d8cbf\",\n          \"45785b95-514a-4fa8-a094-81df687e3a7d\"\n        ],\n        \"semantic_type\": \"\",\n        \"description\": \"\"\n      }\n    },\n    {\n      \"column\": \"experiment\",\n      \"properties\": {\n        \"dtype\": \"category\",\n        \"num_unique_values\": 2,\n        \"samples\": [\n          \"control\",\n          \"exposed\"\n        ],\n        \"semantic_type\": \"\",\n        \"description\": \"\"\n      }\n    },\n    {\n      \"column\": \"date\",\n      \"properties\": {\n        \"dtype\": \"object\",\n        \"num_unique_values\": 8,\n        \"samples\": [\n          \"2020-07-07\",\n          \"2020-07-04\"\n        ],\n        \"semantic_type\": \"\",\n        \"description\": \"\"\n      }\n    },\n    {\n      \"column\": \"hour\",\n      \"properties\": {\n        \"dtype\": \"number\",\n        \"std\": 5,\n        \"min\": 0,\n        \"max\": 23,\n        \"num_unique_values\": 24,\n        \"samples\": [\n          6,\n          18\n        ],\n        \"semantic_type\": \"\",\n        \"description\": \"\"\n      }\n    },\n    {\n      \"column\": \"device_make\",\n      \"properties\": {\n        \"dtype\": \"category\",\n        \"num_unique_values\": 269,\n        \"samples\": [\n          \"Samsung SM-G975F\",\n          \"Pixel 2\"\n        ],\n        \"semantic_type\": \"\",\n        \"description\": \"\"\n      }\n    },\n    {\n      \"column\": \"platform_os\",\n      \"properties\": {\n        \"dtype\": \"number\",\n        \"std\": 0,\n        \"min\": 5,\n        \"max\": 7,\n        \"num_unique_values\": 3,\n        \"samples\": [\n          6,\n          5\n        ],\n        \"semantic_type\": \"\",\n        \"description\": \"\"\n      }\n    },\n    {\n      \"column\": \"browser\",\n      \"properties\": {\n        \"dtype\": \"category\",\n        \"num_unique_values\": 15,\n        \"samples\": [\n          \"Edge Mobile\",\n          \"Pinterest\"\n        ],\n        \"semantic_type\": \"\",\n        \"description\": \"\"\n      }\n    },\n    {\n      \"column\": \"yes\",\n      \"properties\": {\n        \"dtype\": \"number\",\n        \"std\": 0,\n        \"min\": 0,\n        \"max\": 1,\n        \"num_unique_values\": 2,\n        \"samples\": [\n          1,\n          0\n        ],\n        \"semantic_type\": \"\",\n        \"description\": \"\"\n      }\n    },\n    {\n      \"column\": \"no\",\n      \"properties\": {\n        \"dtype\": \"number\",\n        \"std\": 0,\n        \"min\": 0,\n        \"max\": 1,\n        \"num_unique_values\": 2,\n        \"samples\": [\n          1,\n          0\n        ],\n        \"semantic_type\": \"\",\n        \"description\": \"\"\n      }\n    }\n  ]\n}"
            }
          },
          "metadata": {},
          "execution_count": 7
        }
      ],
      "source": [
        "df.head()"
      ]
    },
    {
      "cell_type": "code",
      "execution_count": 8,
      "id": "9f63f9fe-8bf1-4e46-afde-56cf2a3f9c8e",
      "metadata": {
        "id": "9f63f9fe-8bf1-4e46-afde-56cf2a3f9c8e"
      },
      "outputs": [],
      "source": [
        "# Set up the format and styles for plots globally\n",
        "sns.set_style('white')\n",
        "plt.rc('axes', titlesize=13)\n",
        "plt.rc('axes', labelsize=12)\n",
        "plt.rc('xtick', labelsize=11)\n",
        "plt.rc('ytick', labelsize=11)\n",
        "plt.rc('legend', fontsize=11)\n",
        "plt.rc('font', size=10)"
      ]
    },
    {
      "cell_type": "code",
      "execution_count": 9,
      "id": "802e2df3-b147-478f-a0a4-6a5f7995a28f",
      "metadata": {
        "colab": {
          "base_uri": "https://localhost:8080/",
          "height": 363
        },
        "id": "802e2df3-b147-478f-a0a4-6a5f7995a28f",
        "outputId": "293de52e-64f5-44b2-c20d-1e2bb330bde4"
      },
      "outputs": [
        {
          "output_type": "execute_result",
          "data": {
            "text/plain": [
              "                             auction_id experiment        date  hour  \\\n",
              "0  0008ef63-77a7-448b-bd1e-075f42c55e39    exposed  2020-07-10     8   \n",
              "1  000eabc5-17ce-4137-8efe-44734d914446    exposed  2020-07-07    10   \n",
              "2  0016d14a-ae18-4a02-a204-6ba53b52f2ed    exposed  2020-07-05     2   \n",
              "3  00187412-2932-4542-a8ef-3633901c98d9    control  2020-07-03    15   \n",
              "4  001a7785-d3fe-4e11-a344-c8735acacc2c    control  2020-07-03    15   \n",
              "5  0027ce48-d3c6-4935-bb12-dfb5d5627857    control  2020-07-03    15   \n",
              "6  002e308b-1a07-49d6-8560-0fbcdcd71e4b    control  2020-07-03    15   \n",
              "7  00393fb9-ca32-40c0-bfcb-1bd83f319820    control  2020-07-09     5   \n",
              "8  004940f5-c642-417a-8fd2-c8e5d989f358    exposed  2020-07-04     0   \n",
              "9  004c4cc9-f2ca-4df7-adc9-3d0c3c4f0342    control  2020-07-05    14   \n",
              "\n",
              "          device_make  platform_os                browser  yes  no  \n",
              "0  Generic Smartphone            6          Chrome Mobile    0   0  \n",
              "1  Generic Smartphone            6          Chrome Mobile    0   0  \n",
              "2               E5823            6  Chrome Mobile WebView    0   1  \n",
              "3   Samsung SM-A705FN            6               Facebook    0   0  \n",
              "4  Generic Smartphone            6          Chrome Mobile    0   0  \n",
              "5    Samsung SM-G960F            6               Facebook    0   0  \n",
              "6  Generic Smartphone            6          Chrome Mobile    0   0  \n",
              "7    Samsung SM-G973F            6               Facebook    0   0  \n",
              "8  Generic Smartphone            6  Chrome Mobile WebView    0   0  \n",
              "9  Generic Smartphone            6          Chrome Mobile    0   0  "
            ],
            "text/html": [
              "\n",
              "  <div id=\"df-3e4ce318-da32-41f9-8d25-73b2dd60b732\" class=\"colab-df-container\">\n",
              "    <div>\n",
              "<style scoped>\n",
              "    .dataframe tbody tr th:only-of-type {\n",
              "        vertical-align: middle;\n",
              "    }\n",
              "\n",
              "    .dataframe tbody tr th {\n",
              "        vertical-align: top;\n",
              "    }\n",
              "\n",
              "    .dataframe thead th {\n",
              "        text-align: right;\n",
              "    }\n",
              "</style>\n",
              "<table border=\"1\" class=\"dataframe\">\n",
              "  <thead>\n",
              "    <tr style=\"text-align: right;\">\n",
              "      <th></th>\n",
              "      <th>auction_id</th>\n",
              "      <th>experiment</th>\n",
              "      <th>date</th>\n",
              "      <th>hour</th>\n",
              "      <th>device_make</th>\n",
              "      <th>platform_os</th>\n",
              "      <th>browser</th>\n",
              "      <th>yes</th>\n",
              "      <th>no</th>\n",
              "    </tr>\n",
              "  </thead>\n",
              "  <tbody>\n",
              "    <tr>\n",
              "      <th>0</th>\n",
              "      <td>0008ef63-77a7-448b-bd1e-075f42c55e39</td>\n",
              "      <td>exposed</td>\n",
              "      <td>2020-07-10</td>\n",
              "      <td>8</td>\n",
              "      <td>Generic Smartphone</td>\n",
              "      <td>6</td>\n",
              "      <td>Chrome Mobile</td>\n",
              "      <td>0</td>\n",
              "      <td>0</td>\n",
              "    </tr>\n",
              "    <tr>\n",
              "      <th>1</th>\n",
              "      <td>000eabc5-17ce-4137-8efe-44734d914446</td>\n",
              "      <td>exposed</td>\n",
              "      <td>2020-07-07</td>\n",
              "      <td>10</td>\n",
              "      <td>Generic Smartphone</td>\n",
              "      <td>6</td>\n",
              "      <td>Chrome Mobile</td>\n",
              "      <td>0</td>\n",
              "      <td>0</td>\n",
              "    </tr>\n",
              "    <tr>\n",
              "      <th>2</th>\n",
              "      <td>0016d14a-ae18-4a02-a204-6ba53b52f2ed</td>\n",
              "      <td>exposed</td>\n",
              "      <td>2020-07-05</td>\n",
              "      <td>2</td>\n",
              "      <td>E5823</td>\n",
              "      <td>6</td>\n",
              "      <td>Chrome Mobile WebView</td>\n",
              "      <td>0</td>\n",
              "      <td>1</td>\n",
              "    </tr>\n",
              "    <tr>\n",
              "      <th>3</th>\n",
              "      <td>00187412-2932-4542-a8ef-3633901c98d9</td>\n",
              "      <td>control</td>\n",
              "      <td>2020-07-03</td>\n",
              "      <td>15</td>\n",
              "      <td>Samsung SM-A705FN</td>\n",
              "      <td>6</td>\n",
              "      <td>Facebook</td>\n",
              "      <td>0</td>\n",
              "      <td>0</td>\n",
              "    </tr>\n",
              "    <tr>\n",
              "      <th>4</th>\n",
              "      <td>001a7785-d3fe-4e11-a344-c8735acacc2c</td>\n",
              "      <td>control</td>\n",
              "      <td>2020-07-03</td>\n",
              "      <td>15</td>\n",
              "      <td>Generic Smartphone</td>\n",
              "      <td>6</td>\n",
              "      <td>Chrome Mobile</td>\n",
              "      <td>0</td>\n",
              "      <td>0</td>\n",
              "    </tr>\n",
              "    <tr>\n",
              "      <th>5</th>\n",
              "      <td>0027ce48-d3c6-4935-bb12-dfb5d5627857</td>\n",
              "      <td>control</td>\n",
              "      <td>2020-07-03</td>\n",
              "      <td>15</td>\n",
              "      <td>Samsung SM-G960F</td>\n",
              "      <td>6</td>\n",
              "      <td>Facebook</td>\n",
              "      <td>0</td>\n",
              "      <td>0</td>\n",
              "    </tr>\n",
              "    <tr>\n",
              "      <th>6</th>\n",
              "      <td>002e308b-1a07-49d6-8560-0fbcdcd71e4b</td>\n",
              "      <td>control</td>\n",
              "      <td>2020-07-03</td>\n",
              "      <td>15</td>\n",
              "      <td>Generic Smartphone</td>\n",
              "      <td>6</td>\n",
              "      <td>Chrome Mobile</td>\n",
              "      <td>0</td>\n",
              "      <td>0</td>\n",
              "    </tr>\n",
              "    <tr>\n",
              "      <th>7</th>\n",
              "      <td>00393fb9-ca32-40c0-bfcb-1bd83f319820</td>\n",
              "      <td>control</td>\n",
              "      <td>2020-07-09</td>\n",
              "      <td>5</td>\n",
              "      <td>Samsung SM-G973F</td>\n",
              "      <td>6</td>\n",
              "      <td>Facebook</td>\n",
              "      <td>0</td>\n",
              "      <td>0</td>\n",
              "    </tr>\n",
              "    <tr>\n",
              "      <th>8</th>\n",
              "      <td>004940f5-c642-417a-8fd2-c8e5d989f358</td>\n",
              "      <td>exposed</td>\n",
              "      <td>2020-07-04</td>\n",
              "      <td>0</td>\n",
              "      <td>Generic Smartphone</td>\n",
              "      <td>6</td>\n",
              "      <td>Chrome Mobile WebView</td>\n",
              "      <td>0</td>\n",
              "      <td>0</td>\n",
              "    </tr>\n",
              "    <tr>\n",
              "      <th>9</th>\n",
              "      <td>004c4cc9-f2ca-4df7-adc9-3d0c3c4f0342</td>\n",
              "      <td>control</td>\n",
              "      <td>2020-07-05</td>\n",
              "      <td>14</td>\n",
              "      <td>Generic Smartphone</td>\n",
              "      <td>6</td>\n",
              "      <td>Chrome Mobile</td>\n",
              "      <td>0</td>\n",
              "      <td>0</td>\n",
              "    </tr>\n",
              "  </tbody>\n",
              "</table>\n",
              "</div>\n",
              "    <div class=\"colab-df-buttons\">\n",
              "\n",
              "  <div class=\"colab-df-container\">\n",
              "    <button class=\"colab-df-convert\" onclick=\"convertToInteractive('df-3e4ce318-da32-41f9-8d25-73b2dd60b732')\"\n",
              "            title=\"Convert this dataframe to an interactive table.\"\n",
              "            style=\"display:none;\">\n",
              "\n",
              "  <svg xmlns=\"http://www.w3.org/2000/svg\" height=\"24px\" viewBox=\"0 -960 960 960\">\n",
              "    <path d=\"M120-120v-720h720v720H120Zm60-500h600v-160H180v160Zm220 220h160v-160H400v160Zm0 220h160v-160H400v160ZM180-400h160v-160H180v160Zm440 0h160v-160H620v160ZM180-180h160v-160H180v160Zm440 0h160v-160H620v160Z\"/>\n",
              "  </svg>\n",
              "    </button>\n",
              "\n",
              "  <style>\n",
              "    .colab-df-container {\n",
              "      display:flex;\n",
              "      gap: 12px;\n",
              "    }\n",
              "\n",
              "    .colab-df-convert {\n",
              "      background-color: #E8F0FE;\n",
              "      border: none;\n",
              "      border-radius: 50%;\n",
              "      cursor: pointer;\n",
              "      display: none;\n",
              "      fill: #1967D2;\n",
              "      height: 32px;\n",
              "      padding: 0 0 0 0;\n",
              "      width: 32px;\n",
              "    }\n",
              "\n",
              "    .colab-df-convert:hover {\n",
              "      background-color: #E2EBFA;\n",
              "      box-shadow: 0px 1px 2px rgba(60, 64, 67, 0.3), 0px 1px 3px 1px rgba(60, 64, 67, 0.15);\n",
              "      fill: #174EA6;\n",
              "    }\n",
              "\n",
              "    .colab-df-buttons div {\n",
              "      margin-bottom: 4px;\n",
              "    }\n",
              "\n",
              "    [theme=dark] .colab-df-convert {\n",
              "      background-color: #3B4455;\n",
              "      fill: #D2E3FC;\n",
              "    }\n",
              "\n",
              "    [theme=dark] .colab-df-convert:hover {\n",
              "      background-color: #434B5C;\n",
              "      box-shadow: 0px 1px 3px 1px rgba(0, 0, 0, 0.15);\n",
              "      filter: drop-shadow(0px 1px 2px rgba(0, 0, 0, 0.3));\n",
              "      fill: #FFFFFF;\n",
              "    }\n",
              "  </style>\n",
              "\n",
              "    <script>\n",
              "      const buttonEl =\n",
              "        document.querySelector('#df-3e4ce318-da32-41f9-8d25-73b2dd60b732 button.colab-df-convert');\n",
              "      buttonEl.style.display =\n",
              "        google.colab.kernel.accessAllowed ? 'block' : 'none';\n",
              "\n",
              "      async function convertToInteractive(key) {\n",
              "        const element = document.querySelector('#df-3e4ce318-da32-41f9-8d25-73b2dd60b732');\n",
              "        const dataTable =\n",
              "          await google.colab.kernel.invokeFunction('convertToInteractive',\n",
              "                                                    [key], {});\n",
              "        if (!dataTable) return;\n",
              "\n",
              "        const docLinkHtml = 'Like what you see? Visit the ' +\n",
              "          '<a target=\"_blank\" href=https://colab.research.google.com/notebooks/data_table.ipynb>data table notebook</a>'\n",
              "          + ' to learn more about interactive tables.';\n",
              "        element.innerHTML = '';\n",
              "        dataTable['output_type'] = 'display_data';\n",
              "        await google.colab.output.renderOutput(dataTable, element);\n",
              "        const docLink = document.createElement('div');\n",
              "        docLink.innerHTML = docLinkHtml;\n",
              "        element.appendChild(docLink);\n",
              "      }\n",
              "    </script>\n",
              "  </div>\n",
              "\n",
              "\n",
              "<div id=\"df-bc4708ec-989f-4c70-b7de-065614d98993\">\n",
              "  <button class=\"colab-df-quickchart\" onclick=\"quickchart('df-bc4708ec-989f-4c70-b7de-065614d98993')\"\n",
              "            title=\"Suggest charts\"\n",
              "            style=\"display:none;\">\n",
              "\n",
              "<svg xmlns=\"http://www.w3.org/2000/svg\" height=\"24px\"viewBox=\"0 0 24 24\"\n",
              "     width=\"24px\">\n",
              "    <g>\n",
              "        <path d=\"M19 3H5c-1.1 0-2 .9-2 2v14c0 1.1.9 2 2 2h14c1.1 0 2-.9 2-2V5c0-1.1-.9-2-2-2zM9 17H7v-7h2v7zm4 0h-2V7h2v10zm4 0h-2v-4h2v4z\"/>\n",
              "    </g>\n",
              "</svg>\n",
              "  </button>\n",
              "\n",
              "<style>\n",
              "  .colab-df-quickchart {\n",
              "      --bg-color: #E8F0FE;\n",
              "      --fill-color: #1967D2;\n",
              "      --hover-bg-color: #E2EBFA;\n",
              "      --hover-fill-color: #174EA6;\n",
              "      --disabled-fill-color: #AAA;\n",
              "      --disabled-bg-color: #DDD;\n",
              "  }\n",
              "\n",
              "  [theme=dark] .colab-df-quickchart {\n",
              "      --bg-color: #3B4455;\n",
              "      --fill-color: #D2E3FC;\n",
              "      --hover-bg-color: #434B5C;\n",
              "      --hover-fill-color: #FFFFFF;\n",
              "      --disabled-bg-color: #3B4455;\n",
              "      --disabled-fill-color: #666;\n",
              "  }\n",
              "\n",
              "  .colab-df-quickchart {\n",
              "    background-color: var(--bg-color);\n",
              "    border: none;\n",
              "    border-radius: 50%;\n",
              "    cursor: pointer;\n",
              "    display: none;\n",
              "    fill: var(--fill-color);\n",
              "    height: 32px;\n",
              "    padding: 0;\n",
              "    width: 32px;\n",
              "  }\n",
              "\n",
              "  .colab-df-quickchart:hover {\n",
              "    background-color: var(--hover-bg-color);\n",
              "    box-shadow: 0 1px 2px rgba(60, 64, 67, 0.3), 0 1px 3px 1px rgba(60, 64, 67, 0.15);\n",
              "    fill: var(--button-hover-fill-color);\n",
              "  }\n",
              "\n",
              "  .colab-df-quickchart-complete:disabled,\n",
              "  .colab-df-quickchart-complete:disabled:hover {\n",
              "    background-color: var(--disabled-bg-color);\n",
              "    fill: var(--disabled-fill-color);\n",
              "    box-shadow: none;\n",
              "  }\n",
              "\n",
              "  .colab-df-spinner {\n",
              "    border: 2px solid var(--fill-color);\n",
              "    border-color: transparent;\n",
              "    border-bottom-color: var(--fill-color);\n",
              "    animation:\n",
              "      spin 1s steps(1) infinite;\n",
              "  }\n",
              "\n",
              "  @keyframes spin {\n",
              "    0% {\n",
              "      border-color: transparent;\n",
              "      border-bottom-color: var(--fill-color);\n",
              "      border-left-color: var(--fill-color);\n",
              "    }\n",
              "    20% {\n",
              "      border-color: transparent;\n",
              "      border-left-color: var(--fill-color);\n",
              "      border-top-color: var(--fill-color);\n",
              "    }\n",
              "    30% {\n",
              "      border-color: transparent;\n",
              "      border-left-color: var(--fill-color);\n",
              "      border-top-color: var(--fill-color);\n",
              "      border-right-color: var(--fill-color);\n",
              "    }\n",
              "    40% {\n",
              "      border-color: transparent;\n",
              "      border-right-color: var(--fill-color);\n",
              "      border-top-color: var(--fill-color);\n",
              "    }\n",
              "    60% {\n",
              "      border-color: transparent;\n",
              "      border-right-color: var(--fill-color);\n",
              "    }\n",
              "    80% {\n",
              "      border-color: transparent;\n",
              "      border-right-color: var(--fill-color);\n",
              "      border-bottom-color: var(--fill-color);\n",
              "    }\n",
              "    90% {\n",
              "      border-color: transparent;\n",
              "      border-bottom-color: var(--fill-color);\n",
              "    }\n",
              "  }\n",
              "</style>\n",
              "\n",
              "  <script>\n",
              "    async function quickchart(key) {\n",
              "      const quickchartButtonEl =\n",
              "        document.querySelector('#' + key + ' button');\n",
              "      quickchartButtonEl.disabled = true;  // To prevent multiple clicks.\n",
              "      quickchartButtonEl.classList.add('colab-df-spinner');\n",
              "      try {\n",
              "        const charts = await google.colab.kernel.invokeFunction(\n",
              "            'suggestCharts', [key], {});\n",
              "      } catch (error) {\n",
              "        console.error('Error during call to suggestCharts:', error);\n",
              "      }\n",
              "      quickchartButtonEl.classList.remove('colab-df-spinner');\n",
              "      quickchartButtonEl.classList.add('colab-df-quickchart-complete');\n",
              "    }\n",
              "    (() => {\n",
              "      let quickchartButtonEl =\n",
              "        document.querySelector('#df-bc4708ec-989f-4c70-b7de-065614d98993 button');\n",
              "      quickchartButtonEl.style.display =\n",
              "        google.colab.kernel.accessAllowed ? 'block' : 'none';\n",
              "    })();\n",
              "  </script>\n",
              "</div>\n",
              "\n",
              "    </div>\n",
              "  </div>\n"
            ],
            "application/vnd.google.colaboratory.intrinsic+json": {
              "type": "dataframe",
              "variable_name": "df",
              "summary": "{\n  \"name\": \"df\",\n  \"rows\": 8077,\n  \"fields\": [\n    {\n      \"column\": \"auction_id\",\n      \"properties\": {\n        \"dtype\": \"string\",\n        \"num_unique_values\": 8077,\n        \"samples\": [\n          \"34da343c-b2cf-452a-a12d-ea3475b4b426\",\n          \"e05daa86-33b5-4607-8168-8c6f475d8cbf\",\n          \"45785b95-514a-4fa8-a094-81df687e3a7d\"\n        ],\n        \"semantic_type\": \"\",\n        \"description\": \"\"\n      }\n    },\n    {\n      \"column\": \"experiment\",\n      \"properties\": {\n        \"dtype\": \"category\",\n        \"num_unique_values\": 2,\n        \"samples\": [\n          \"control\",\n          \"exposed\"\n        ],\n        \"semantic_type\": \"\",\n        \"description\": \"\"\n      }\n    },\n    {\n      \"column\": \"date\",\n      \"properties\": {\n        \"dtype\": \"object\",\n        \"num_unique_values\": 8,\n        \"samples\": [\n          \"2020-07-07\",\n          \"2020-07-04\"\n        ],\n        \"semantic_type\": \"\",\n        \"description\": \"\"\n      }\n    },\n    {\n      \"column\": \"hour\",\n      \"properties\": {\n        \"dtype\": \"number\",\n        \"std\": 5,\n        \"min\": 0,\n        \"max\": 23,\n        \"num_unique_values\": 24,\n        \"samples\": [\n          6,\n          18\n        ],\n        \"semantic_type\": \"\",\n        \"description\": \"\"\n      }\n    },\n    {\n      \"column\": \"device_make\",\n      \"properties\": {\n        \"dtype\": \"category\",\n        \"num_unique_values\": 269,\n        \"samples\": [\n          \"Samsung SM-G975F\",\n          \"Pixel 2\"\n        ],\n        \"semantic_type\": \"\",\n        \"description\": \"\"\n      }\n    },\n    {\n      \"column\": \"platform_os\",\n      \"properties\": {\n        \"dtype\": \"number\",\n        \"std\": 0,\n        \"min\": 5,\n        \"max\": 7,\n        \"num_unique_values\": 3,\n        \"samples\": [\n          6,\n          5\n        ],\n        \"semantic_type\": \"\",\n        \"description\": \"\"\n      }\n    },\n    {\n      \"column\": \"browser\",\n      \"properties\": {\n        \"dtype\": \"category\",\n        \"num_unique_values\": 15,\n        \"samples\": [\n          \"Edge Mobile\",\n          \"Pinterest\"\n        ],\n        \"semantic_type\": \"\",\n        \"description\": \"\"\n      }\n    },\n    {\n      \"column\": \"yes\",\n      \"properties\": {\n        \"dtype\": \"number\",\n        \"std\": 0,\n        \"min\": 0,\n        \"max\": 1,\n        \"num_unique_values\": 2,\n        \"samples\": [\n          1,\n          0\n        ],\n        \"semantic_type\": \"\",\n        \"description\": \"\"\n      }\n    },\n    {\n      \"column\": \"no\",\n      \"properties\": {\n        \"dtype\": \"number\",\n        \"std\": 0,\n        \"min\": 0,\n        \"max\": 1,\n        \"num_unique_values\": 2,\n        \"samples\": [\n          1,\n          0\n        ],\n        \"semantic_type\": \"\",\n        \"description\": \"\"\n      }\n    }\n  ]\n}"
            }
          },
          "metadata": {},
          "execution_count": 9
        }
      ],
      "source": [
        "df.head(10)"
      ]
    },
    {
      "cell_type": "markdown",
      "id": "66db19d3-f7c5-45c3-b2bf-b737cfc68e4f",
      "metadata": {
        "id": "66db19d3-f7c5-45c3-b2bf-b737cfc68e4f"
      },
      "source": [
        "## Data Assesment"
      ]
    },
    {
      "cell_type": "code",
      "execution_count": 10,
      "id": "8d518112-cbb3-4870-8969-66683ab3a955",
      "metadata": {
        "colab": {
          "base_uri": "https://localhost:8080/"
        },
        "id": "8d518112-cbb3-4870-8969-66683ab3a955",
        "outputId": "78f03886-2764-4268-afa1-7e34d8d6aa94"
      },
      "outputs": [
        {
          "output_type": "stream",
          "name": "stdout",
          "text": [
            "<class 'pandas.core.frame.DataFrame'>\n",
            "RangeIndex: 8077 entries, 0 to 8076\n",
            "Data columns (total 9 columns):\n",
            " #   Column       Non-Null Count  Dtype \n",
            "---  ------       --------------  ----- \n",
            " 0   auction_id   8077 non-null   object\n",
            " 1   experiment   8077 non-null   object\n",
            " 2   date         8077 non-null   object\n",
            " 3   hour         8077 non-null   int64 \n",
            " 4   device_make  8077 non-null   object\n",
            " 5   platform_os  8077 non-null   int64 \n",
            " 6   browser      8077 non-null   object\n",
            " 7   yes          8077 non-null   int64 \n",
            " 8   no           8077 non-null   int64 \n",
            "dtypes: int64(4), object(5)\n",
            "memory usage: 568.0+ KB\n"
          ]
        }
      ],
      "source": [
        "df.info()"
      ]
    },
    {
      "cell_type": "code",
      "execution_count": 11,
      "id": "c3a0fbde-9ffa-4d92-8d4a-519edfa913ac",
      "metadata": {
        "colab": {
          "base_uri": "https://localhost:8080/"
        },
        "id": "c3a0fbde-9ffa-4d92-8d4a-519edfa913ac",
        "outputId": "6ed50122-85c9-431b-dee1-0ab1bbf2703e"
      },
      "outputs": [
        {
          "output_type": "stream",
          "name": "stdout",
          "text": [
            "There are no duplicates in the dataset\n",
            "There are no null values\n"
          ]
        }
      ],
      "source": [
        "# Check for duplicates\n",
        "if df.iloc[: ,0].nunique() == df.shape[0]:\n",
        "    print('There are no duplicates in the dataset')\n",
        "else:\n",
        "    print('There are some duplicates in the dataset')\n",
        "\n",
        "if df.isnull().sum().sum() == 0:\n",
        "    print('There are no null values')\n",
        "else:\n",
        "    print('There are some null values')"
      ]
    },
    {
      "cell_type": "markdown",
      "id": "62995e48-25d4-465d-8f9d-67f747cc4c49",
      "metadata": {
        "id": "62995e48-25d4-465d-8f9d-67f747cc4c49"
      },
      "source": [
        "## Data Preprocessing"
      ]
    },
    {
      "cell_type": "code",
      "execution_count": 12,
      "id": "e32e0df5-8361-4eaf-b14f-0821fa4d577d",
      "metadata": {
        "colab": {
          "base_uri": "https://localhost:8080/"
        },
        "id": "e32e0df5-8361-4eaf-b14f-0821fa4d577d",
        "outputId": "207d9f57-40da-4cf3-8e7b-a2407a5ac1be"
      },
      "outputs": [
        {
          "output_type": "stream",
          "name": "stdout",
          "text": [
            "The exposed group dataframe has 657 observations\n",
            "The control group dataframe has 586 observations\n",
            "The conversion rate in the exposed group is equal to 46.88%\n",
            "The conversion rate in the exposed group is equal to 45.05%\n"
          ]
        }
      ],
      "source": [
        "# Filter out users that were not interacting\n",
        "relevant_rows = df.query('yes == 1 | no == 1')\n",
        "\n",
        "# Divide a dataframe by exposed and control group\n",
        "exposed = relevant_rows.query('experiment == \"exposed\"')\n",
        "control = relevant_rows.query('experiment == \"control\"')\n",
        "\n",
        "# Calculate a number of observation in both groups\n",
        "print('The exposed group dataframe has {} observations'. format(exposed.shape[0]))\n",
        "print('The control group dataframe has {} observations'. format(control.shape[0]))\n",
        "\n",
        "contr_d1 = '{0:.2f}%'.format(exposed.yes.mean()*100)\n",
        "trtm_d1 = '{0:.2f}%'.format(control.yes.mean()*100)\n",
        "print('The conversion rate in the exposed group is equal to {}'.format(contr_d1))\n",
        "print('The conversion rate in the exposed group is equal to {}'.format(trtm_d1))"
      ]
    },
    {
      "cell_type": "code",
      "execution_count": 13,
      "id": "45c486ba-359c-4e65-8ad2-5c79cd683f28",
      "metadata": {
        "colab": {
          "base_uri": "https://localhost:8080/"
        },
        "id": "45c486ba-359c-4e65-8ad2-5c79cd683f28",
        "outputId": "dd479e23-06ab-4a58-f8df-33e462e36a12"
      },
      "outputs": [
        {
          "output_type": "stream",
          "name": "stdout",
          "text": [
            "The observed difference in the conversion rate between the exposed and the control group is 1.83%\n"
          ]
        }
      ],
      "source": [
        "obs_diff = exposed.yes.mean() - control.yes.mean()\n",
        "obs_diff_form = '{0:.2f}%'.format(obs_diff*100)\n",
        "print('The observed difference in the conversion rate between the exposed and the control group is {}'.format(obs_diff_form))"
      ]
    },
    {
      "cell_type": "markdown",
      "id": "fdf312a3-cb21-4a29-9fcc-17c57f538804",
      "metadata": {
        "id": "fdf312a3-cb21-4a29-9fcc-17c57f538804"
      },
      "source": [
        "## Sampling distribution under the null"
      ]
    },
    {
      "cell_type": "code",
      "execution_count": 14,
      "id": "d0139f43-e5ff-4163-9b37-ac963bb5e58c",
      "metadata": {
        "colab": {
          "base_uri": "https://localhost:8080/"
        },
        "id": "d0139f43-e5ff-4163-9b37-ac963bb5e58c",
        "outputId": "3b50587d-4667-40ef-ac58-370c07618605"
      },
      "outputs": [
        {
          "output_type": "stream",
          "name": "stdout",
          "text": [
            "The sample sizes of the exposed group and control group are 657 and 586 respectively\n",
            "The number of conversions in the exposed group and control group is 308 and 264 respectively\n"
          ]
        }
      ],
      "source": [
        "exposed_converted = exposed.query('yes == 1')\n",
        "control_converted = control.query('yes == 1')\n",
        "print('The sample sizes of the exposed group and control group are {} and {} respectively'.format(exposed.shape[0], control.shape[0]))\n",
        "print('The number of conversions in the exposed group and control group is {} and {} respectively'.format(exposed_converted.shape[0],\n",
        "                                                                                          control_converted.shape[0]))"
      ]
    },
    {
      "cell_type": "code",
      "execution_count": 15,
      "id": "f021e980-5bde-4c64-b5fb-362c2aeb4c55",
      "metadata": {
        "colab": {
          "base_uri": "https://localhost:8080/"
        },
        "id": "f021e980-5bde-4c64-b5fb-362c2aeb4c55",
        "outputId": "fba1ccb4-db41-417c-a35e-1412bb20df16"
      },
      "outputs": [
        {
          "output_type": "stream",
          "name": "stdout",
          "text": [
            "P-value is equal to 25.92%\n"
          ]
        }
      ],
      "source": [
        "#storing number of conversions for exposed and control groups as numpy arrays\n",
        "count = np.array([exposed_converted.shape[0], control_converted.shape[0]])\n",
        "#storing sample sizes of exposed and control group as numpy arrays\n",
        "nobs = np.array([exposed.shape[0], control.shape[0]])\n",
        "#storing results of z test in variables\n",
        "stat, p_val = proportions_ztest(count, nobs, alternative = 'larger')\n",
        "p_form = '{0:.2f}%'.format(p_val*100)\n",
        "print('P-value is equal to {}'.format(p_form))"
      ]
    },
    {
      "cell_type": "code",
      "execution_count": 16,
      "id": "b755b8c8-9a4d-4ac1-acb9-656e4a124ac3",
      "metadata": {
        "id": "b755b8c8-9a4d-4ac1-acb9-656e4a124ac3"
      },
      "outputs": [],
      "source": [
        "# Draw 100000 samples from binominal distribution\n",
        "exposed_simulation = np.random.binomial(exposed.shape[0], exposed.yes.mean(), 100000)/exposed.shape[0]\n",
        "control_simulation = np.random.binomial(control.shape[0], control.yes.mean(), 100000)/control.shape[0]\n",
        "p_diffs = exposed_simulation - control_simulation\n",
        "diffs = np.array(p_diffs)\n",
        "\n",
        "#Creation of normal distribution centered at zero\n",
        "null_vals = np.random.normal(0, np.std(diffs), len(diffs))"
      ]
    },
    {
      "cell_type": "code",
      "execution_count": 17,
      "id": "310be22f-c235-4697-b88b-34f36fc67fa1",
      "metadata": {
        "id": "310be22f-c235-4697-b88b-34f36fc67fa1"
      },
      "outputs": [],
      "source": [
        "def statplot(data, lim, obs_stat, title):\n",
        "    \"\"\"\n",
        "    This function creates a plot, that represents sampling distribution.\n",
        "    This plot is formatted and has main statistics on it\n",
        "    Arguments:\n",
        "    data = array\n",
        "    lim = height of the plot\n",
        "    obs_stat = observed statistic\n",
        "    title = chart title\n",
        "    \"\"\"\n",
        "\n",
        "    #Create a kdeplot\n",
        "    plt.figure(figsize=(12,4), tight_layout=True)\n",
        "    ax = sns.kdeplot(data, linewidth = 0.8, color = 'black')\n",
        "\n",
        "    # Simple formatting\n",
        "    frame = ['right', 'left', 'top']\n",
        "    for i in frame:\n",
        "        ax.spines[i].set_visible(False)\n",
        "\n",
        "    plt.title(title)\n",
        "    plt.ylabel('')\n",
        "    plt.yticks([], [])\n",
        "\n",
        "    # Legend\n",
        "    line = Line2D([0], [0], color='red', linestyle = '-', label='observed statistic')\n",
        "    line_dashed = Line2D([0], [0], color='black', linestyle = '--', label='mean and standard deviation')\n",
        "    plt.legend(handles=[line, line_dashed], loc='upper left');\n",
        "\n",
        "    # Create a list of 3 standard deviation to the left and to the right and mean\n",
        "    std_list = []\n",
        "    std_list_format = []\n",
        "    for i in range(-3,4):\n",
        "        std_dev = np.std(data) * i + np.mean(data)\n",
        "        std_list.append(std_dev)\n",
        "        std_list_format.append('{0:.3f}'.format(std_dev) + '\\n {} std'.format(i))\n",
        "\n",
        "    # Create a list of corresponding y values\n",
        "    data_x, data_y = ax.lines[0].get_data()\n",
        "    height = []\n",
        "    for i in std_list:\n",
        "        height.append(np.interp(i, data_x, data_y))\n",
        "\n",
        "    # Plotting vertical lines representing std deviations\n",
        "    for a, b in zip(std_list, height):\n",
        "        plt.axvline(a, 0, b/lim, color = 'black', alpha = 1, linewidth = 0.8, linestyle = '--')\n",
        "        plt.plot(a, b, marker = 'o', color = 'blue')\n",
        "\n",
        "    # Plotting observed statistic\n",
        "    obs_line_height = np.interp(obs_stat, data_x, data_y)\n",
        "    plt.axvline(obs_stat, 0, obs_line_height/lim, color = 'red', alpha = 1, linewidth = 0.8, linestyle = '-')\n",
        "    plt.plot(obs_stat, obs_line_height, marker = 'o', color = 'red')\n",
        "\n",
        "    # Plotting x ticks\n",
        "    x_ticks = std_list\n",
        "    x_labels = std_list_format\n",
        "    plt.xticks(x_ticks, x_labels)\n",
        "    plt.ylim(0,lim)"
      ]
    },
    {
      "cell_type": "code",
      "execution_count": 18,
      "id": "67d91d86-033b-4ce2-a717-cbf90d855edd",
      "metadata": {
        "id": "67d91d86-033b-4ce2-a717-cbf90d855edd"
      },
      "outputs": [],
      "source": [
        "def shading(data, left, right, color):\n",
        "\n",
        "    \"\"\"\n",
        "    This function shades areas of the kde plot.\n",
        "    Arguments:\n",
        "    data = array\n",
        "    left = left boundary of the area to be shaded\n",
        "    right = right boundary of the area to be shaded\n",
        "    color = color\n",
        "    \"\"\"\n",
        "\n",
        "    #Shading areas\n",
        "    kde = stats.gaussian_kde(data)\n",
        "    shade = np.linspace(left, right, 100)\n",
        "    plt.fill_between(shade, kde(shade), color = color, alpha = 0.5);"
      ]
    },
    {
      "cell_type": "code",
      "execution_count": 19,
      "id": "05b8e955-248d-42f0-b78d-c7237fb601f1",
      "metadata": {
        "colab": {
          "base_uri": "https://localhost:8080/",
          "height": 407
        },
        "id": "05b8e955-248d-42f0-b78d-c7237fb601f1",
        "outputId": "cdd32d6d-6927-4f91-a98f-172b77d557c9"
      },
      "outputs": [
        {
          "output_type": "display_data",
          "data": {
            "text/plain": [
              "<Figure size 1200x400 with 1 Axes>"
            ],
            "image/png": "[encoded data removed]"
          },
          "metadata": {}
        }
      ],
      "source": [
        "# Plotting the sampling distribution\n",
        "statplot(null_vals, 15, obs_diff, 'Sampling Distribution of the difference in sample proportions under the null hypothesis')\n",
        "shading(null_vals, obs_diff, null_vals.max(),'#aaffb5')\n",
        "shading(null_vals, null_vals.min(), obs_diff,'#cceefb')\n",
        "plt.text(0.075, 12, \"P-value = {}\".format(p_form), color = 'black', size = 15);"
      ]
    },
    {
      "cell_type": "markdown",
      "id": "9e9fdfe1-95ad-4e88-8dde-7b934069fcbc",
      "metadata": {
        "id": "9e9fdfe1-95ad-4e88-8dde-7b934069fcbc"
      },
      "source": [
        "## Confidence Intervals"
      ]
    },
    {
      "cell_type": "code",
      "execution_count": 23,
      "id": "dddfe25c-a58a-4d9a-be84-63d3c66bd993",
      "metadata": {
        "colab": {
          "base_uri": "https://localhost:8080/"
        },
        "id": "dddfe25c-a58a-4d9a-be84-63d3c66bd993",
        "outputId": "c52de847-907b-432d-d59b-5798d22b6ce7"
      },
      "outputs": [
        {
          "output_type": "stream",
          "name": "stdout",
          "text": [
            "The 90% confidence interval falls between -0.02828080835958243 and 0.06485204695055077.\n"
          ]
        }
      ],
      "source": [
        "# Calculate z statistic\n",
        "zscore = stats.norm.ppf(1 - .05)\n",
        "\n",
        "# Calculate mean proportion for exposed group\n",
        "p1 = exposed.yes.mean()\n",
        "# Calculate mean proportion for control group\n",
        "p2 = control.yes.mean()\n",
        "# Calculate distance from the mean\n",
        "distance_from_mean = ((p1*(1-p1)/exposed.yes.shape[0]) + (p2*(1-p2)/control.yes.shape[0])) ** 0.5 * zscore\n",
        "\n",
        "# Lower boarder of the interval\n",
        "low = obs_diff - distance_from_mean\n",
        "# Higher boarder of the interval\n",
        "high = obs_diff + distance_from_mean\n",
        "\n",
        "print('The 90% confidence interval falls between {} and {}.'.format(low, high))"
      ]
    },
    {
      "cell_type": "code",
      "execution_count": 24,
      "id": "bd23dc59-9e22-40ae-8234-a05dc5cdf6ca",
      "metadata": {
        "colab": {
          "base_uri": "https://localhost:8080/",
          "height": 407
        },
        "id": "bd23dc59-9e22-40ae-8234-a05dc5cdf6ca",
        "outputId": "1a5ebdce-93cf-4adb-9362-a1f9afec1c02"
      },
      "outputs": [
        {
          "output_type": "display_data",
          "data": {
            "text/plain": [
              "<Figure size 1200x400 with 1 Axes>"
            ],
            "image/png": "[encoded data removed]"
          },
          "metadata": {}
        }
      ],
      "source": [
        "# Plotting the confidence interval\n",
        "statplot(diffs, 15, np.mean(null_vals), '90% confidence interval')\n",
        "shading(diffs, diffs.min(), low, '#aaffb5')\n",
        "shading(diffs, low, high, '#cceefb')\n",
        "shading(diffs, high, diffs.max(), '#aaffb5')"
      ]
    },
    {
      "cell_type": "markdown",
      "id": "e201f266-dad8-4368-a1e4-6929f99dacb4",
      "metadata": {
        "id": "e201f266-dad8-4368-a1e4-6929f99dacb4"
      },
      "source": [
        "## Logistic Regression"
      ]
    },
    {
      "cell_type": "code",
      "execution_count": 30,
      "id": "90d5c7fa-ca29-4372-9e9d-a24f31114203",
      "metadata": {
        "colab": {
          "base_uri": "https://localhost:8080/",
          "height": 373
        },
        "id": "90d5c7fa-ca29-4372-9e9d-a24f31114203",
        "outputId": "3b50adb2-f7b4-4eb7-8189-b4b7ccec3e5f"
      },
      "outputs": [
        {
          "output_type": "stream",
          "name": "stdout",
          "text": [
            "int64\n",
            "intercept    int64\n",
            "exposed       bool\n",
            "dtype: object\n",
            "Optimization terminated successfully.\n",
            "         Current function value: 0.689804\n",
            "         Iterations 4\n"
          ]
        },
        {
          "output_type": "execute_result",
          "data": {
            "text/plain": [
              "<class 'statsmodels.iolib.summary.Summary'>\n",
              "\"\"\"\n",
              "                           Logit Regression Results                           \n",
              "==============================================================================\n",
              "Dep. Variable:                    yes   No. Observations:                 1243\n",
              "Model:                          Logit   Df Residuals:                     1241\n",
              "Method:                           MLE   Df Model:                            1\n",
              "Date:                Wed, 12 Jun 2024   Pseudo R-squ.:               0.0002431\n",
              "Time:                        20:44:33   Log-Likelihood:                -857.43\n",
              "converged:                       True   LL-Null:                       -857.64\n",
              "Covariance Type:            nonrobust   LLR p-value:                    0.5185\n",
              "==============================================================================\n",
              "                 coef    std err          z      P>|z|      [0.025      0.975]\n",
              "------------------------------------------------------------------------------\n",
              "intercept     -0.1986      0.083     -2.392      0.017      -0.361      -0.036\n",
              "exposed        0.0736      0.114      0.646      0.519      -0.150       0.297\n",
              "==============================================================================\n",
              "\"\"\""
            ],
            "text/html": [
              "<table class=\"simpletable\">\n",
              "<caption>Logit Regression Results</caption>\n",
              "<tr>\n",
              "  <th>Dep. Variable:</th>          <td>yes</td>       <th>  No. Observations:  </th>  <td>  1243</td>  \n",
              "</tr>\n",
              "<tr>\n",
              "  <th>Model:</th>                 <td>Logit</td>      <th>  Df Residuals:      </th>  <td>  1241</td>  \n",
              "</tr>\n",
              "<tr>\n",
              "  <th>Method:</th>                 <td>MLE</td>       <th>  Df Model:          </th>  <td>     1</td>  \n",
              "</tr>\n",
              "<tr>\n",
              "  <th>Date:</th>            <td>Wed, 12 Jun 2024</td> <th>  Pseudo R-squ.:     </th> <td>0.0002431</td>\n",
              "</tr>\n",
              "<tr>\n",
              "  <th>Time:</th>                <td>20:44:33</td>     <th>  Log-Likelihood:    </th> <td> -857.43</td> \n",
              "</tr>\n",
              "<tr>\n",
              "  <th>converged:</th>             <td>True</td>       <th>  LL-Null:           </th> <td> -857.64</td> \n",
              "</tr>\n",
              "<tr>\n",
              "  <th>Covariance Type:</th>     <td>nonrobust</td>    <th>  LLR p-value:       </th>  <td>0.5185</td>  \n",
              "</tr>\n",
              "</table>\n",
              "<table class=\"simpletable\">\n",
              "<tr>\n",
              "      <td></td>         <th>coef</th>     <th>std err</th>      <th>z</th>      <th>P>|z|</th>  <th>[0.025</th>    <th>0.975]</th>  \n",
              "</tr>\n",
              "<tr>\n",
              "  <th>intercept</th> <td>   -0.1986</td> <td>    0.083</td> <td>   -2.392</td> <td> 0.017</td> <td>   -0.361</td> <td>   -0.036</td>\n",
              "</tr>\n",
              "<tr>\n",
              "  <th>exposed</th>   <td>    0.0736</td> <td>    0.114</td> <td>    0.646</td> <td> 0.519</td> <td>   -0.150</td> <td>    0.297</td>\n",
              "</tr>\n",
              "</table>"
            ],
            "text/latex": "\\begin{center}\n\\begin{tabular}{lclc}\n\\toprule\n\\textbf{Dep. Variable:}   &       yes        & \\textbf{  No. Observations:  } &     1243    \\\\\n\\textbf{Model:}           &      Logit       & \\textbf{  Df Residuals:      } &     1241    \\\\\n\\textbf{Method:}          &       MLE        & \\textbf{  Df Model:          } &        1    \\\\\n\\textbf{Date:}            & Wed, 12 Jun 2024 & \\textbf{  Pseudo R-squ.:     } & 0.0002431   \\\\\n\\textbf{Time:}            &     20:44:33     & \\textbf{  Log-Likelihood:    } &   -857.43   \\\\\n\\textbf{converged:}       &       True       & \\textbf{  LL-Null:           } &   -857.64   \\\\\n\\textbf{Covariance Type:} &    nonrobust     & \\textbf{  LLR p-value:       } &   0.5185    \\\\\n\\bottomrule\n\\end{tabular}\n\\begin{tabular}{lcccccc}\n                   & \\textbf{coef} & \\textbf{std err} & \\textbf{z} & \\textbf{P$> |$z$|$} & \\textbf{[0.025} & \\textbf{0.975]}  \\\\\n\\midrule\n\\textbf{intercept} &      -0.1986  &        0.083     &    -2.392  &         0.017        &       -0.361    &       -0.036     \\\\\n\\textbf{exposed}   &       0.0736  &        0.114     &     0.646  &         0.519        &       -0.150    &        0.297     \\\\\n\\bottomrule\n\\end{tabular}\n%\\caption{Logit Regression Results}\n\\end{center}"
          },
          "metadata": {},
          "execution_count": 30
        }
      ],
      "source": [
        "# Create dummy variables for experiment variable\n",
        "relevant_rows[['control', 'exposed']] = pd.get_dummies(relevant_rows.loc[:, 'experiment'])\n",
        "relevant_rows = relevant_rows.drop(['control'], axis = 1)\n",
        "# Add intercept\n",
        "relevant_rows['intercept'] = 1\n",
        "\n",
        "# Check data types of relevant columns and convert if necessary\n",
        "print(relevant_rows['yes'].dtype)  # Check the data type of 'yes' column\n",
        "print(relevant_rows[['intercept', 'exposed']].dtypes)  # Check data types of predictors\n",
        "\n",
        "if relevant_rows['yes'].dtype == object:\n",
        "    # Convert 'yes' column to numeric (assuming it contains binary values like 'yes' and 'no')\n",
        "    relevant_rows['yes'] = relevant_rows['yes'].map({'yes': 1, 'no': 0})\n",
        "\n",
        "# Explicitly convert relevant columns to numeric types\n",
        "relevant_rows['yes'] = pd.to_numeric(relevant_rows['yes'])\n",
        "relevant_rows['intercept'] = pd.to_numeric(relevant_rows['intercept'])\n",
        "relevant_rows['exposed'] = pd.to_numeric(relevant_rows['exposed'])\n",
        "\n",
        "# Force conversion to float in case they are integers\n",
        "relevant_rows['yes'] = relevant_rows['yes'].astype(float)\n",
        "relevant_rows['intercept'] = relevant_rows['intercept'].astype(float)\n",
        "relevant_rows['exposed'] = relevant_rows['exposed'].astype(float)\n",
        "\n",
        "#set up logistic regression model\n",
        "logit_mod = sm.Logit(relevant_rows['yes'], relevant_rows[['intercept', 'exposed']])\n",
        "#fitting logistic regression model\n",
        "results = logit_mod.fit()\n",
        "#display summary results\n",
        "results.summary()"
      ]
    },
    {
      "cell_type": "code",
      "execution_count": null,
      "id": "fe94d735-4c60-447f-a2cf-d70d41b672c4",
      "metadata": {
        "id": "fe94d735-4c60-447f-a2cf-d70d41b672c4"
      },
      "outputs": [],
      "source": []
    },
    {
      "cell_type": "markdown",
      "id": "7321ca8f-1da2-4053-9eae-1eed406696f0",
      "metadata": {
        "id": "7321ca8f-1da2-4053-9eae-1eed406696f0"
      },
      "source": [
        "- By - Ritvik Jain\n",
        "- Stevens Institute of Technology"
      ]
    },
    {
      "cell_type": "code",
      "execution_count": null,
      "id": "ec7bc607-a07d-4b3e-aaf8-4f90e67a977e",
      "metadata": {
        "id": "ec7bc607-a07d-4b3e-aaf8-4f90e67a977e"
      },
      "outputs": [],
      "source": []
    }
  ],
  "metadata": {
    "kernelspec": {
      "display_name": "Python 3 (ipykernel)",
      "language": "python",
      "name": "python3"
    },
    "language_info": {
      "codemirror_mode": {
        "name": "ipython",
        "version": 3
      },
      "file_extension": ".py",
      "mimetype": "text/x-python",
      "name": "python",
      "nbconvert_exporter": "python",
      "pygments_lexer": "ipython3",
      "version": "3.9.12"
    },
    "colab": {
      "provenance": []
    }
  },
  "nbformat": 4,
  "nbformat_minor": 5
}